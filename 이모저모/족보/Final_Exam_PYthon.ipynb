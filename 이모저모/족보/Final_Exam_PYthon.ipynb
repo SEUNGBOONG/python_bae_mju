{
  "nbformat": 4,
  "nbformat_minor": 0,
  "metadata": {
    "colab": {
      "name": "Final_Exam - PYthon.ipynb",
      "provenance": []
    },
    "kernelspec": {
      "name": "python3",
      "display_name": "Python 3"
    },
    "language_info": {
      "name": "python"
    }
  },
  "cells": [
    {
      "cell_type": "code",
      "execution_count": null,
      "metadata": {
        "id": "vK2YicXG0wM4"
      },
      "outputs": [],
      "source": [
        "#60181958 허찬영\n",
        "# section_33\n",
        "print('='*10,'section_33','='*10)\n",
        "myTuple = ('a','b','c')\n",
        "print(myTuple[0])\n",
        "\n",
        "myTuple = (\"tuple\",(1,2,3),[4,5,6])\n",
        "print(myTuple[0])\n",
        "print(myTuple[0][1])\n",
        "print(myTuple[2][0])\n",
        "print(myTuple[-1])\n",
        "print(myTuple[-1][0])\n",
        "\n",
        "myTuple = ('p','y','t','h','o','n')\n",
        "print(myTuple[1:4])\n",
        "print(myTuple[:-2])\n",
        "print(myTuple[:])\n",
        "\n",
        "# section_35\n",
        "print('\\n','='*10,'section_35','='*10)\n",
        "my_tuple = (1,2,3)\n",
        "your_tuple = (4,5,6)\n",
        "\n",
        "our_tuple = my_tuple + your_tuple\n",
        "print(our_tuple)\n",
        "\n",
        "multiply_tuple = my_tuple * 3\n",
        "print(multiply_tuple)\n",
        "\n",
        "#del our_tuple\n",
        "#print(our_tuple)\n",
        "\n",
        "print(1 in my_tuple)\n",
        "print(4 in my_tuple)\n",
        "print(3 not in my_tuple)\n",
        "\n",
        "print(multiply_tuple.count(1))\n",
        "print(multiply_tuple.index(2))\n",
        "\n",
        "tuple1 = (1,2,3)\n",
        "mytuple = tuple1 + (\"Hello\",)\n",
        "print(mytuple)\n",
        "\n",
        "list1 = [4,5,6]\n",
        "mylist = list1 + ['Hello',]\n",
        "print(mylist)\n",
        "mylist2 = list1 + ['Hello']\n",
        "print(mylist2)\n"
      ]
    },
    {
      "cell_type": "code",
      "source": [
        "#60181958 허찬영\n",
        "\n",
        "\n",
        "def hap(a,b):\n",
        "    result = a + b\n",
        "    print('두 수의 합을 구해 출력해는 함수 입니다.')\n",
        "    print(f'{a},{b}의 합은 {result}입니다.')    \n",
        "\n",
        "def cha(a,b):\n",
        "    result = a - b\n",
        "    print('두 수의 차을 구해 출력해는 함수 입니다.')\n",
        "    print(f'{a},{b}의 차은 {result}입니다.')\n",
        "\n",
        "\n",
        "\n",
        "def hapcha(a,b,op):\n",
        "    if op == '+':\n",
        "        hap(a,b)\n",
        "    elif op == '-':\n",
        "        cha(a,b)\n",
        "    else:\n",
        "        print('정의되지 않은 연산입니다')\n",
        "\n",
        "hapcha(10,20,'+')\n",
        "hapcha(10,20,'-')\n",
        "hapcha(-87,172,'+')\n",
        "hapcha(-87,172,'-')\n",
        "hapcha(1,2,'*')\n"
      ],
      "metadata": {
        "id": "jKFJ9lIF2ML1"
      },
      "execution_count": null,
      "outputs": []
    },
    {
      "cell_type": "code",
      "source": [
        "#return\n",
        "def turnNone(value):\n",
        "    x = value\n",
        "\n",
        "\n",
        "def turnValue(value):\n",
        "    x = value\n",
        "    return x\n",
        "\n",
        "def turnTuple(value):\n",
        "    return value,value+1,value-1 # ()이 생략된것 => 튜플임\n",
        "\n",
        "a = turnValue(1)\n",
        "print(a)\n",
        "\n",
        "a1 = turnTuple(1)\n",
        "print(a1,type(a1))\n",
        "\n",
        "#default parameter\n",
        "def report(mess,who='Heo'): #default parameter값은 뒤쪽에 위치해야 한다\n",
        "    print(mess,who)\n",
        "\n",
        "a2 = report('Chan')\n",
        "a2 = report('Chan','Kim')           \n",
        "#a2 = report()    \n",
        "\n",
        "def my_info(name,sid=12345678,age=11):\n",
        "    print(f'이름은 {name}, 학번은 {sid}, 나이는 {age}')\n",
        "a3 = my_info('허찬영',60181958,25)\n",
        "a3 = my_info('허찬영')\n",
        "\n",
        "#가변 인수\n",
        "def select_even(*arg): # *arg 가 여러 인자들을 받는 것\n",
        "                       #전달인자가 tuple로 변환되고 이를 매개변수가 가리키게 된다\n",
        "                       # 가변인수는 항상 맨뒤쪽에 배치해야한다\n",
        "    result=[]\n",
        "    for i in arg:\n",
        "        if i%2==1:\n",
        "            continue\n",
        "        result.append(i)\n",
        "    return result\n",
        "\n",
        "print(select_even(1,2,3,4))\n",
        "print(select_even(-12,2,81,99,48,20))\n",
        "\n",
        "def my_info2(*info):\n",
        "    print(type(info))\n",
        "    print(f'이름은 {info[0]} 학번은 {info[1]} 나이는 {info[2]}이다')\n",
        "\n",
        "a4 = my_info2(1,2,3)\n",
        "\n",
        "d = {4,4,5,6}\n",
        "print(d,type(d))\n",
        "a4 = my_info2(*d)\n",
        "\n",
        "d1 = [1,2,3,4]\n",
        "print(d1,type(d1))\n",
        "a4 = my_info2(*d1)\n",
        "\n",
        "\n",
        "def select_even_odd(msg,*arg):\n",
        "    result=[msg]\n",
        "    for num in arg:\n",
        "        if msg == 'even':\n",
        "            if num%2 ==0:\n",
        "                result.append(num)\n",
        "        elif msg == 'odd':\n",
        "            if num%2==1:\n",
        "                result.append(num)\n",
        "        else:\n",
        "            print(\"even or odd가 선택되지 않았습니다\")\n",
        "\n",
        "    return result\n",
        "\n",
        "print(select_even_odd('even',1,2,3,4,5,6,7,8,9,10))\n",
        "print(select_even_odd('odd',1,2,3,4,5,6,7,8,9,10))\n",
        "print(select_even_odd('adfasf',1,2,3,4,5,6))\n",
        "\n",
        "def my_print2(**d): #사전형 가변인수 **가 붙는다\n",
        "    for key ,value in zip(d.keys(),d.values()):\n",
        "        print(f'{key} = {value}')\n",
        "\n",
        "idol = {'exo':9,'twice':10,'bts':12}\n",
        "my_print2(**idol)\n",
        "\n",
        "\n",
        "\n",
        "\n",
        "#doc\n",
        "def ex():\n",
        "    '''예시 함수입니다'''\n",
        "    pass\n",
        "\n",
        "print(help(ex))\n",
        "ex.__doc__ = '''abc''' #__doc__ 로 함수의 doc를 변경할 수 있다\n",
        "print(help(ex))\n",
        "\n",
        "#global 을 통해 지역네임스페이스에서 전역변수를 변경할 수 있다\n",
        "\n",
        "g_var = 5\n",
        "print('전역변수 =',g_var)\n",
        "def gl():\n",
        "    global g_var #global과 함께 변수를 선언하면 전역변수를 변경할 수 있다\n",
        "    g_var=3\n",
        "gl()\n",
        "print('전역변수 =',g_var)\n",
        "\n",
        "\n"
      ],
      "metadata": {
        "colab": {
          "base_uri": "https://localhost:8080/"
        },
        "id": "NFNJ_g892MJD",
        "outputId": "fbccae1f-e795-416f-ff5e-2a1ee9044089"
      },
      "execution_count": 33,
      "outputs": [
        {
          "output_type": "stream",
          "name": "stdout",
          "text": [
            "1\n",
            "(1, 2, 0) <class 'tuple'>\n",
            "Chan Heo\n",
            "Chan Kim\n",
            "이름은 허찬영, 학번은 60181958, 나이는 25\n",
            "이름은 허찬영, 학번은 12345678, 나이는 11\n",
            "[2, 4]\n",
            "[-12, 2, 48, 20]\n",
            "<class 'tuple'>\n",
            "이름은 1 학번은 2 나이는 3이다\n",
            "{4, 5, 6} <class 'set'>\n",
            "<class 'tuple'>\n",
            "이름은 4 학번은 5 나이는 6이다\n",
            "[1, 2, 3, 4] <class 'list'>\n",
            "<class 'tuple'>\n",
            "이름은 1 학번은 2 나이는 3이다\n",
            "['even', 2, 4, 6, 8, 10]\n",
            "['odd', 1, 3, 5, 7, 9]\n",
            "even or odd가 선택되지 않았습니다\n",
            "even or odd가 선택되지 않았습니다\n",
            "even or odd가 선택되지 않았습니다\n",
            "even or odd가 선택되지 않았습니다\n",
            "even or odd가 선택되지 않았습니다\n",
            "even or odd가 선택되지 않았습니다\n",
            "['adfasf']\n",
            "exo = 9\n",
            "twice = 10\n",
            "bts = 12\n",
            "Help on function ex in module __main__:\n",
            "\n",
            "ex()\n",
            "    예시 함수입니다\n",
            "\n",
            "None\n",
            "Help on function ex in module __main__:\n",
            "\n",
            "ex()\n",
            "    abc\n",
            "\n",
            "None\n",
            "전역변수 = 5\n",
            "전역변수 = 3\n"
          ]
        }
      ]
    },
    {
      "cell_type": "code",
      "source": [
        "#eval\n",
        "#문자열을 인수로 받아 실제로 실행시킬 수 있는 파이썬 수식으로 변환 후 실행\n",
        "print(eval('1000*2'))\n",
        "\n",
        "num = 1\n",
        "temp = 'print(num+1)'\n",
        "print(temp)\n",
        "eval(temp)\n"
      ],
      "metadata": {
        "colab": {
          "base_uri": "https://localhost:8080/"
        },
        "id": "McRK7jm62MGu",
        "outputId": "44223745-6e7c-4859-959a-634edd905b27"
      },
      "execution_count": 34,
      "outputs": [
        {
          "output_type": "stream",
          "name": "stdout",
          "text": [
            "2000\n",
            "print(num+1)\n",
            "2\n"
          ]
        }
      ]
    },
    {
      "cell_type": "code",
      "source": [
        "import random\n",
        "\n",
        "mylist = []\n",
        "for i in range(10):\n",
        "    x = random.randint(1,100)\n",
        "    mylist.append(x)\n",
        "\n",
        "print(mylist)\n",
        "\n",
        "random.shuffle(mylist)\n",
        "print(mylist)\n"
      ],
      "metadata": {
        "colab": {
          "base_uri": "https://localhost:8080/"
        },
        "id": "zwqg7oo52YCh",
        "outputId": "b67f2f12-0afd-494d-ecd1-0514aa419e09"
      },
      "execution_count": 39,
      "outputs": [
        {
          "output_type": "stream",
          "name": "stdout",
          "text": [
            "[11, 45, 38, 74, 25, 24, 68, 34, 34, 97]\n",
            "[34, 74, 68, 45, 34, 11, 24, 97, 38, 25]\n"
          ]
        }
      ]
    },
    {
      "cell_type": "code",
      "source": [
        "#random\n",
        "import random\n",
        "\n",
        "myStr = 'ABCDEFGHI'\n",
        "\n",
        "print(random.sample(myStr,2))\n",
        "\n",
        "myList = random.sample(range(1,45),6) #1~44사이의 숫자중에서 6개의 숫자를 중복되지 않게 추출하는 코드\n",
        "print(myList,type(myList))\n",
        "myList.sort()\n",
        "print(myList)\n",
        "\n",
        "print(random.random()) #0.0 ~ 1.0 사이에서 임의로 실수를 추출해준다\n",
        "print(random.uniform(0,10)) #0~(10-1)사이에서 임의로 실수를 추출해준다 uniform(x,y)은 x <= <y & randrange(x,y)도 x<= <y //randint(x,y)는 x<=  <=y\n",
        "\n",
        "\n",
        "#time\n",
        "import time\n",
        "print('현재시각 : ' ,time.time())\n",
        "\n",
        "def manyloop(max):\n",
        "    t1 = time.time()\n",
        "    for a in range(max): #이 for문이 실행되는데 얼마나 걸렸는지 알 수 있다\n",
        "        pass\n",
        "    t2 = time.time()\n",
        "    print(t2-t1, '초 경과')\n",
        "\n",
        "number = int(input(\"숫자를 입력하세요 : \"))\n",
        "manyloop(number)\n",
        "\n",
        "print(time.ctime()) #현재시각을 문자열로 반환해준다\n",
        "\n",
        "for t in range(6):\n",
        "    print(time.ctime())\n",
        "    time.sleep(0.1) # 프로그램을 쉬게하는 코드\n",
        "\n",
        "\n",
        "#datetime\n",
        "import datetime\n",
        "\n",
        "d = datetime.datetime.now()\n",
        "print(d)\n",
        "\n",
        "print(d.year,d.month,d.day)\n",
        "print(d.hour, d.minute, d.second, d.microsecond) #현재 시간 몇시간 / 몇 분 / 몇 초 지났는지 알 수 있\n",
        "print(d.weekday()) #요일을 알 수 있다 0 = 월요일 1 = 화요일\n"
      ],
      "metadata": {
        "colab": {
          "base_uri": "https://localhost:8080/"
        },
        "id": "7op3y4oO2MDW",
        "outputId": "4a174aa9-9da3-4e26-e24f-469954497a03"
      },
      "execution_count": 36,
      "outputs": [
        {
          "output_type": "stream",
          "name": "stdout",
          "text": [
            "['I', 'C']\n",
            "[26, 33, 25, 20, 40, 38] <class 'list'>\n",
            "[20, 25, 26, 33, 38, 40]\n",
            "0.027810234020879565\n",
            "8.104531022415607\n",
            "현재시각 :  1654593431.736655\n",
            "숫자를 입력하세요 : 1\n",
            "2.6226043701171875e-06 초 경과\n",
            "Tue Jun  7 09:17:15 2022\n",
            "Tue Jun  7 09:17:15 2022\n",
            "Tue Jun  7 09:17:15 2022\n",
            "Tue Jun  7 09:17:15 2022\n",
            "Tue Jun  7 09:17:15 2022\n",
            "Tue Jun  7 09:17:15 2022\n",
            "Tue Jun  7 09:17:15 2022\n",
            "2022-06-07 09:17:15.877827\n",
            "2022 6 7\n",
            "9 17 15 877827\n",
            "1\n"
          ]
        }
      ]
    },
    {
      "cell_type": "code",
      "source": [
        "import random\n",
        "import datetime\n",
        "\n",
        "print(f'나의 인공지능 메모 -------------')\n",
        "d = datetime.datetime.now()\n",
        "now = f'{d.year}년 {d.month}월 {d.day}일 {d.hour}시간 {d.minute}분'\n",
        "\n",
        "while True:\n",
        "    order = input('명령을 입력하세요 >> ')\n",
        "    if order == '로또':\n",
        "        lotto = {}\n",
        "        lottolist = []\n",
        "        lottolist.append(now)\n",
        "        for i in range(5):\n",
        "            lotto_num = random.sample(range(1,46),6)\n",
        "            lottolist.append(tuple(lotto_num))\n",
        "        lotto[order] = lottolist\n",
        "        \n",
        "    elif order[0:3] == '가계부':\n",
        "        temp = {}\n",
        "        templist = []\n",
        "        templist.append(now)\n",
        "        templist.append(order[7:12])\n",
        "        templist.append(\"가계부\")\n",
        "        temp[order[4:6]] = templist\n",
        "        print(temp)\n",
        "    elif order[0:2] == '입력':\n",
        "        temp2 = {}\n",
        "        temp2[order[0:2]] = (now, '일반')\n",
        "\n",
        "    elif order[0:2] == '출력':\n",
        "        print(f'{now} : {temp2}')\n",
        "        print(f'{now} : {lotto}')\n",
        "        print(f'{now} : {temp}')\n",
        "    elif order == '종료':\n",
        "        print('종료합니다')\n",
        "        break\n",
        "\n",
        "    else:\n",
        "        print(\"잘못된 명령입니다\")\n"
      ],
      "metadata": {
        "id": "2tUSnTU32MBU"
      },
      "execution_count": null,
      "outputs": []
    },
    {
      "cell_type": "code",
      "source": [
        ""
      ],
      "metadata": {
        "id": "rvIJj18t2L_U"
      },
      "execution_count": null,
      "outputs": []
    },
    {
      "cell_type": "code",
      "source": [
        ""
      ],
      "metadata": {
        "id": "3awMf9E02L9C"
      },
      "execution_count": null,
      "outputs": []
    },
    {
      "cell_type": "markdown",
      "source": [
        "# 딕셔너리 사용법"
      ],
      "metadata": {
        "id": "zEW5wD7pUCh_"
      }
    },
    {
      "cell_type": "code",
      "source": [
        "ex = {'a':1,'b':2,'c':3}\n",
        "\n",
        "print('ex =',ex)\n",
        "print('ex.keys =',ex.keys(),list(ex.keys()))\n",
        "print(list(ex.keys())[1])\n",
        "print('ex.values =',ex.values(),list(ex.values()))\n",
        "list(ex.values())[2]\n",
        "\n",
        "print(ex['a'])\n",
        "print(ex[1])"
      ],
      "metadata": {
        "colab": {
          "base_uri": "https://localhost:8080/",
          "height": 299
        },
        "id": "jLPYg83vURWq",
        "outputId": "ecad3ef1-6934-4a85-d40c-4994c53db944"
      },
      "execution_count": 24,
      "outputs": [
        {
          "output_type": "stream",
          "name": "stdout",
          "text": [
            "ex = {'a': 1, 'b': 2, 'c': 3}\n",
            "ex.keys = dict_keys(['a', 'b', 'c']) ['a', 'b', 'c']\n",
            "b\n",
            "ex.values = dict_values([1, 2, 3]) [1, 2, 3]\n",
            "1\n"
          ]
        },
        {
          "output_type": "error",
          "ename": "KeyError",
          "evalue": "ignored",
          "traceback": [
            "\u001b[0;31m---------------------------------------------------------------------------\u001b[0m",
            "\u001b[0;31mKeyError\u001b[0m                                  Traceback (most recent call last)",
            "\u001b[0;32m<ipython-input-24-f40d2c7da4d1>\u001b[0m in \u001b[0;36m<module>\u001b[0;34m()\u001b[0m\n\u001b[1;32m      8\u001b[0m \u001b[0;34m\u001b[0m\u001b[0m\n\u001b[1;32m      9\u001b[0m \u001b[0mprint\u001b[0m\u001b[0;34m(\u001b[0m\u001b[0mex\u001b[0m\u001b[0;34m[\u001b[0m\u001b[0;34m'a'\u001b[0m\u001b[0;34m]\u001b[0m\u001b[0;34m)\u001b[0m\u001b[0;34m\u001b[0m\u001b[0;34m\u001b[0m\u001b[0m\n\u001b[0;32m---> 10\u001b[0;31m \u001b[0mprint\u001b[0m\u001b[0;34m(\u001b[0m\u001b[0mex\u001b[0m\u001b[0;34m[\u001b[0m\u001b[0;36m1\u001b[0m\u001b[0;34m]\u001b[0m\u001b[0;34m)\u001b[0m\u001b[0;34m\u001b[0m\u001b[0;34m\u001b[0m\u001b[0m\n\u001b[0m",
            "\u001b[0;31mKeyError\u001b[0m: 1"
          ]
        }
      ]
    },
    {
      "cell_type": "markdown",
      "source": [
        "key나 value값에 접근할때에는 keys(), values()를 통해 dict 객체를 만들고 list로 형변환해서 접근하다"
      ],
      "metadata": {
        "id": "x8dCzrG5V7fd"
      }
    },
    {
      "cell_type": "code",
      "source": [
        "ex2 = {'a':[1,3],'b':(4,5,6),'c':['abc',123,[1,2,3]]}\n",
        "\n",
        "print('ex2 =',ex2)\n",
        "print('ex2.keys =',ex2.keys(),type(ex2.keys()),list(ex2.keys()))\n",
        "print(list(ex2.keys())[0])\n",
        "print('ex2.values =',ex2.values(),list(ex2.values()))\n",
        "print(list(ex2.values())[2])\n",
        "\n",
        "print(list(ex2.values())[2][2])\n",
        "print(list(ex2.values())[2][2][1])"
      ],
      "metadata": {
        "colab": {
          "base_uri": "https://localhost:8080/"
        },
        "id": "Il8Kg0DtUyl7",
        "outputId": "3c764029-fdd8-4bd8-f5f7-809d77076073"
      },
      "execution_count": 28,
      "outputs": [
        {
          "output_type": "stream",
          "name": "stdout",
          "text": [
            "ex2 = {'a': [1, 3], 'b': (4, 5, 6), 'c': ['abc', 123, [1, 2, 3]]}\n",
            "ex2.keys = dict_keys(['a', 'b', 'c']) <class 'dict_keys'> ['a', 'b', 'c']\n",
            "a\n",
            "ex2.values = dict_values([[1, 3], (4, 5, 6), ['abc', 123, [1, 2, 3]]]) [[1, 3], (4, 5, 6), ['abc', 123, [1, 2, 3]]]\n",
            "['abc', 123, [1, 2, 3]]\n",
            "[1, 2, 3]\n",
            "2\n"
          ]
        }
      ]
    },
    {
      "cell_type": "code",
      "source": [
        "member = {123456 : [\"abc123\", \"홍길동\", 100000, \"6/27 13:00\"]}\n",
        "print(list(member.keys()))\n",
        "[123456] == list(member.keys())\n",
        "\n",
        "member.items()"
      ],
      "metadata": {
        "colab": {
          "base_uri": "https://localhost:8080/"
        },
        "id": "ysD72azg2L6u",
        "outputId": "388c3917-6269-426d-8897-5c57a6080a66"
      },
      "execution_count": 30,
      "outputs": [
        {
          "output_type": "stream",
          "name": "stdout",
          "text": [
            "[123456]\n"
          ]
        },
        {
          "output_type": "execute_result",
          "data": {
            "text/plain": [
              "dict_items([(123456, ['abc123', '홍길동', 100000, '6/27 13:00'])])"
            ]
          },
          "metadata": {},
          "execution_count": 30
        }
      ]
    },
    {
      "cell_type": "markdown",
      "source": [
        "# 함수"
      ],
      "metadata": {
        "id": "Mo4EL37otRK1"
      }
    },
    {
      "cell_type": "code",
      "source": [
        "##리턴 값\n",
        "#1 리턴 값 = 1\n",
        "def ex():\n",
        "    return 1\n",
        "#2 리턴 값 여러개\n",
        "def ex2():\n",
        "    return 1,2,3 #사실 튜플에 해당\n",
        "\n",
        "e = ex()\n",
        "e2 = ex2()\n",
        "print(e, e2)\n",
        "print()\n",
        "##매개변수\n",
        "#1 매개변수가 1개\n",
        "def ex3(x): #x가 매개변수로 해당 ==> 함수로 전달되는 인자를 가리키는 변수를 의미한다\n",
        "    return x*2\n",
        "e3 =ex3(3)\n",
        "print(e3)\n",
        "\n",
        "#2 매개변수가 여러개\n",
        "def ex4(x,y,z):\n",
        "    return x+y+z\n",
        "e4 = ex4(2,4,6)\n",
        "print(e4)\n",
        "print()\n",
        "#3 매개변수에 default값으로 정해지는 경우\n",
        "def ex5(x,y,z=4):\n",
        "    return x+y+z\n",
        "e5 = ex5(2,4)\n",
        "e5_2 = ex5(2,4,8) #정해져있는 값에 인자를 전달하면 전달한 값으로 적용된다\n",
        "print(e5, e5_2)\n",
        "\n",
        "def ex6(x,y,z='a'):\n",
        "    return x+y+z\n",
        "e6 = ex6('a','b')\n",
        "print(e6)\n",
        "print()\n",
        "## 가변인자 \n",
        "#1 *args\n",
        "def ex7(*args): #매개변수를 여러개 받을 수 있다 => 가변형 인수\n",
        "    print(args,type(args),*args) #args에 튜플로 여러개를 저장한것을 볼 수 있다\n",
        "    for i in args:\n",
        "        print(i,end= ' ')\n",
        "e7 = ex7(1,23,4,56,8,9)\n",
        "print();print()\n",
        "#2 **kwargs\n",
        "def ex8(**kwargs): #딕셔너리 형태 가변형 인수 / 위의 args와 같은데 딕셔너리일 뿐인것이다\n",
        "    print(kwargs,type(kwargs),*kwargs) #args에 튜플로 여러개를 저장한것을 볼 수 있다\n",
        "    for m,n in kwargs.items():\n",
        "        print(m,n)\n",
        "e8 = ex8(**{'a':123,'b':156})\n",
        "print()\n",
        "##위 내용 다 혼합한 예제\n",
        "def example_function(x,y=1,*args):\n",
        "    print(f'x={x} / y = {y}') #y는 y=1로 default 매개변수이지만 5를 전달했기에 5객체를 가리키게 된다\n",
        "    print(f'arg = {args}')\n",
        "example = example_function(1,5,2,3,4,{'a':1},{'a':2})\n",
        "\n",
        "def example_function2(x,y=1,**kwargs):\n",
        "    print(f'x={x} / y = {y}') #y는 y=1로 default 매개변수이지만 5를 전달했기에 5객체를 가리키게 된다\n",
        "    print(f'kwarg = {kwargs}')\n",
        "example2 = example_function2(1,2,a=1)\n",
        "\n",
        "##doc => 함수의 설명 출력\n",
        "def example_function3():\n",
        "    '''This is example'''\n",
        "    pass\n",
        "\n",
        "help(example_function3)\n",
        "\n"
      ],
      "metadata": {
        "colab": {
          "base_uri": "https://localhost:8080/"
        },
        "id": "VmG54WdqHol-",
        "outputId": "5dfd36b5-5d7c-4564-9b62-4ccdf246a737"
      },
      "execution_count": 77,
      "outputs": [
        {
          "output_type": "stream",
          "name": "stdout",
          "text": [
            "1 (1, 2, 3)\n",
            "\n",
            "6\n",
            "12\n",
            "\n",
            "10 14\n",
            "aba\n",
            "\n",
            "(1, 23, 4, 56, 8, 9) <class 'tuple'> 1 23 4 56 8 9\n",
            "1 23 4 56 8 9 \n",
            "\n",
            "{'a': 123, 'b': 156} <class 'dict'> a b\n",
            "a 123\n",
            "b 156\n",
            "\n",
            "x=1 / y = 5\n",
            "arg = (2, 3, 4, {'a': 1}, {'a': 2})\n",
            "x=1 / y = 2\n",
            "kwarg = {'a': 1}\n",
            "Help on function example_function3 in module __main__:\n",
            "\n",
            "example_function3()\n",
            "    This is example\n",
            "\n"
          ]
        }
      ]
    },
    {
      "cell_type": "markdown",
      "source": [
        "## 전역변수 & 지역변수"
      ],
      "metadata": {
        "id": "3Z95x6TPHn93"
      }
    },
    {
      "cell_type": "code",
      "source": [
        "x = 3 #전역변수\n",
        "\n",
        "def exx():\n",
        "    x = 2 #지역변수 밖의 x와 다름\n",
        "    print(x)\n",
        "\n",
        "exx() \n",
        "print(x)\n"
      ],
      "metadata": {
        "colab": {
          "base_uri": "https://localhost:8080/"
        },
        "id": "LHkE5W7sti7Z",
        "outputId": "fe6c048a-eada-4a27-d673-555a5cd6d2d9"
      },
      "execution_count": 92,
      "outputs": [
        {
          "output_type": "stream",
          "name": "stdout",
          "text": [
            "2\n",
            "3\n"
          ]
        }
      ]
    },
    {
      "cell_type": "code",
      "source": [
        "x = 3 #전역변수\n",
        "\n",
        "def exx():\n",
        "    global x\n",
        "    x = 2 #지역변수 밖의 x와 다름\n",
        "    print(x)\n",
        "\n",
        "exx() \n",
        "print(x) #x=2로 바뀐것을 알 수 있다"
      ],
      "metadata": {
        "colab": {
          "base_uri": "https://localhost:8080/"
        },
        "id": "Hdj75v9iH15F",
        "outputId": "1a5921bf-e558-4f50-d877-54e27842fa62"
      },
      "execution_count": 93,
      "outputs": [
        {
          "output_type": "stream",
          "name": "stdout",
          "text": [
            "2\n",
            "2\n"
          ]
        }
      ]
    },
    {
      "cell_type": "markdown",
      "source": [
        "# eval"
      ],
      "metadata": {
        "id": "GpC2tU90Jnyo"
      }
    },
    {
      "cell_type": "markdown",
      "source": [
        "eval은 문자열안에 식을 구현하는 함수"
      ],
      "metadata": {
        "id": "TdmRR39BJ-tN"
      }
    },
    {
      "cell_type": "code",
      "source": [
        "x = '{\"a\": 3}'\n",
        "y = eval(x)\n",
        "print(y,type(y))\n",
        "\n",
        "x2 = '3+2'\n",
        "y2 = eval(x2)\n",
        "y2"
      ],
      "metadata": {
        "colab": {
          "base_uri": "https://localhost:8080/"
        },
        "id": "OSR9nZ3LJOQA",
        "outputId": "ff6426f4-137d-4d56-ce75-19d4a9f8f618"
      },
      "execution_count": 99,
      "outputs": [
        {
          "output_type": "stream",
          "name": "stdout",
          "text": [
            "{'a': 3} <class 'dict'>\n"
          ]
        },
        {
          "output_type": "execute_result",
          "data": {
            "text/plain": [
              "5"
            ]
          },
          "metadata": {},
          "execution_count": 99
        }
      ]
    },
    {
      "cell_type": "markdown",
      "source": [
        "# random"
      ],
      "metadata": {
        "id": "zK3COtjhKIWM"
      }
    },
    {
      "cell_type": "code",
      "source": [
        "import random\n",
        "## randint\n",
        "mylist = []\n",
        "for i in range(10):\n",
        "    x = random.randint(1,100) #randint(x,y)는 x<=  <=y x이상 y이하에서 random하게 int를 뽑는다\n",
        "    mylist.append(x)\n",
        "print(mylist)\n",
        "random.shuffle(mylist) #shuffle()의 ()를 섞는다\n",
        "print(mylist)\n",
        "print()\n",
        "\n",
        "##random.sample\n",
        "myStr = 'ABCDEFGHI'\n",
        "print(random.sample(myStr,2)) #myStr에서 랜덤하게 2개 뽑는다\n",
        "myList = random.sample(range(1,45),6) #1~44사이의 숫자중에서 6개의 숫자를 중복되지 않게 추출하는 코드\n",
        "print(myList,type(myList))\n",
        "myList.sort()\n",
        "print(myList)\n",
        "print()\n",
        "\n",
        "##random.randrange\n",
        "myList2 = random.randrange(1,45) #1~44사이의 숫자중에서 하나를 중복되지 않게 추출하는 코드\n",
        "print(myList2,type(myList))\n",
        "print()\n",
        "##random.random\n",
        "print(random.random()) #0.0 ~ 1.0 사이에서 임의로 실수를 추출해준다\n",
        "print()\n",
        "##random.unifrom\n",
        "print(random.uniform(0,2)) #(x,y) x이상 y미만사이에서 임의로 실수를 추출해준다 uniform(x,y)은 x <= <y & randrange(x,y)도 x<= <y //randint(x,y)는 x<=  <=y\n",
        "print()"
      ],
      "metadata": {
        "colab": {
          "base_uri": "https://localhost:8080/"
        },
        "id": "kH2MtQelJyv0",
        "outputId": "d691523c-583e-47a0-cfe0-e72422616b5a"
      },
      "execution_count": 118,
      "outputs": [
        {
          "output_type": "stream",
          "name": "stdout",
          "text": [
            "[15, 81, 67, 14, 54, 70, 14, 100, 96, 79]\n",
            "[96, 70, 54, 100, 79, 14, 14, 81, 15, 67]\n",
            "\n",
            "['H', 'B']\n",
            "[32, 11, 27, 31, 38, 5] <class 'list'>\n",
            "[5, 11, 27, 31, 32, 38]\n",
            "\n",
            "8 <class 'list'>\n",
            "\n",
            "0.5113221679664711\n",
            "\n",
            "1.3561572793402301\n",
            "\n"
          ]
        }
      ]
    },
    {
      "cell_type": "markdown",
      "source": [
        "# time"
      ],
      "metadata": {
        "id": "H-6xV_63SgQR"
      }
    },
    {
      "cell_type": "code",
      "source": [
        "#time\n",
        "import time\n",
        "print('현재시각 : ' ,time.time()) #time.time() => 현재시간을 초단위로 출력\n",
        "\n",
        "print(time.ctime()) #현재시각을 문자열로 반환해준다\n",
        "\n",
        "for t in range(6):\n",
        "    print(time.ctime())\n",
        "    time.sleep(0.1) # 프로그램을 쉬게하는 코드"
      ],
      "metadata": {
        "colab": {
          "base_uri": "https://localhost:8080/"
        },
        "id": "IDV5cq5cRTP8",
        "outputId": "b7a502ed-61ab-49c6-e51e-a01cce9fc4ce"
      },
      "execution_count": 109,
      "outputs": [
        {
          "output_type": "stream",
          "name": "stdout",
          "text": [
            "현재시각 :  1654607546.4984038\n",
            "Tue Jun  7 13:12:26 2022\n",
            "Tue Jun  7 13:12:26 2022\n",
            "Tue Jun  7 13:12:26 2022\n",
            "Tue Jun  7 13:12:26 2022\n",
            "Tue Jun  7 13:12:26 2022\n",
            "Tue Jun  7 13:12:26 2022\n",
            "Tue Jun  7 13:12:27 2022\n"
          ]
        }
      ]
    },
    {
      "cell_type": "markdown",
      "source": [
        "# datetime"
      ],
      "metadata": {
        "id": "CUba-7JVSiAZ"
      }
    },
    {
      "cell_type": "code",
      "source": [
        "#datetime\n",
        "import datetime\n",
        "\n",
        "d = datetime.datetime.now() \n",
        "print(d, type(d))\n",
        "\n",
        "print(d.year,d.month,d.day,type(d.year)) #d.year는 datetime.daetime.now에서 중 year만 int로 받음\n",
        "print(d.hour, d.minute, d.second, d.microsecond) #현재 시간 몇시간 / 몇 분 / 몇 초 지났는지 알 수 있\n",
        "print(d.weekday()) #요일을 알 수 있다 0 = 월요일 1 = 화요일"
      ],
      "metadata": {
        "colab": {
          "base_uri": "https://localhost:8080/"
        },
        "id": "49q53GveSc3k",
        "outputId": "d6632a8d-1087-4d9b-bc5a-7f1060ddd821"
      },
      "execution_count": 112,
      "outputs": [
        {
          "output_type": "stream",
          "name": "stdout",
          "text": [
            "2022-06-07 13:13:34.795546 <class 'datetime.datetime'>\n",
            "2022 6 7 <class 'int'>\n",
            "13 13 34 795546\n",
            "1\n"
          ]
        }
      ]
    },
    {
      "cell_type": "code",
      "source": [
        "d1 = time.time()\n",
        "d2 = datetime.datetime.now()\n",
        "d1,d2"
      ],
      "metadata": {
        "colab": {
          "base_uri": "https://localhost:8080/"
        },
        "id": "skHMheaxSjhL",
        "outputId": "5588cada-09c0-444f-afdc-7e9964c76ce2"
      },
      "execution_count": 108,
      "outputs": [
        {
          "output_type": "execute_result",
          "data": {
            "text/plain": [
              "(1654607519.5227294, datetime.datetime(2022, 6, 7, 13, 11, 59, 522762))"
            ]
          },
          "metadata": {},
          "execution_count": 108
        }
      ]
    },
    {
      "cell_type": "markdown",
      "source": [
        "# 파일 입출력"
      ],
      "metadata": {
        "id": "a7CrHzbQUTQs"
      }
    },
    {
      "cell_type": "code",
      "source": [
        "f = open('ex.txt','w') #ex.txt를 쓰기모드로 열겠다\n",
        "poem = '''123\n",
        "abcd\n",
        "가나다라마'''\n",
        "\n",
        "f.write(poem)\n",
        "\n",
        "f.close() #ex.txt를 닫겠다"
      ],
      "metadata": {
        "id": "dXpgkEO_Sv8x"
      },
      "execution_count": 139,
      "outputs": []
    },
    {
      "cell_type": "markdown",
      "source": [
        "open의 'w' =쓰기모드는 .write()를 통해 쓰는 역할을 한다"
      ],
      "metadata": {
        "id": "uP9kX3ezWs8b"
      }
    },
    {
      "cell_type": "code",
      "source": [
        "f = open('ex.txt','r') #ex.txt를 읽기모드로 열겠다\n",
        "while True:\n",
        "    x1 = f.readline() #ex.txt에서 파일 데이터를 한줄씩 읽겠다\n",
        "    if not x1: #EOF에 이르면 None을 돌려주기에 'not None'은 True로 아래 break가 실행된다\n",
        "        break\n",
        "    print(x1,end= '')\n",
        "\n",
        "f.close()"
      ],
      "metadata": {
        "colab": {
          "base_uri": "https://localhost:8080/"
        },
        "id": "sTGgxJD_U8Vb",
        "outputId": "0d799421-ed62-4287-dcdb-2f12ff0ea534"
      },
      "execution_count": 141,
      "outputs": [
        {
          "output_type": "stream",
          "name": "stdout",
          "text": [
            "123\n",
            "abcd\n",
            "가나다라마"
          ]
        }
      ]
    },
    {
      "cell_type": "markdown",
      "source": [
        "open의 'r'==읽기모드는 readline()으로 한줄씩 읽어와서 데이터를 처리한다"
      ],
      "metadata": {
        "id": "m4qfb6QwWzoX"
      }
    },
    {
      "cell_type": "code",
      "source": [
        "f = open('ex.txt','r') #ex.txt를 읽기모드로 열겠다\n",
        "\n",
        "x2 = f.readlines() #파일의 모든 줄을 읽어서 리스트로 반환한다\n",
        "print(x2,type(x2))\n",
        "\n",
        "f.close()"
      ],
      "metadata": {
        "colab": {
          "base_uri": "https://localhost:8080/"
        },
        "id": "8SdX023nVHy6",
        "outputId": "40b6e264-1c98-4249-dbee-b8e69f8b10be"
      },
      "execution_count": 144,
      "outputs": [
        {
          "output_type": "stream",
          "name": "stdout",
          "text": [
            "['123\\n', 'abcd\\n', '가나다라마'] <class 'list'>\n"
          ]
        }
      ]
    },
    {
      "cell_type": "code",
      "source": [
        "f = open('ex.txt','r') #ex.txt를 읽기모드로 열겠다\n",
        "print(f)\n",
        "x3 = f.read() #파일 내용 전체를 문자열로 반환한다\n",
        "print(x3,type(x3))\n",
        "\n",
        "f.close()"
      ],
      "metadata": {
        "colab": {
          "base_uri": "https://localhost:8080/"
        },
        "id": "Rzz1Eb4EXLBS",
        "outputId": "e3f6a432-1e02-4cae-e8ac-ba2fd93443ed"
      },
      "execution_count": 147,
      "outputs": [
        {
          "output_type": "stream",
          "name": "stdout",
          "text": [
            "<_io.TextIOWrapper name='ex.txt' mode='r' encoding='UTF-8'>\n",
            "123\n",
            "abcd\n",
            "가나다라마 <class 'str'>\n"
          ]
        }
      ]
    },
    {
      "cell_type": "markdown",
      "source": [
        "with구문은 똑같은데 f.close를 안써도 되는것이다\n"
      ],
      "metadata": {
        "id": "offYaOcRY6r_"
      }
    },
    {
      "cell_type": "code",
      "source": [
        "with open('ex2.txt','w') as f:\n",
        "    poem = '''드디어\n",
        "    내일이면 시험이다'''\n",
        "\n",
        "    f.write(poem)\n",
        "\n",
        "with open('ex2.txt','r') as f:\n",
        "    while True:\n",
        "        temp = f.readline()\n",
        "        temp = temp.strip('\\n')\n",
        "        print(temp)\n",
        "        if not temp:\n",
        "            break\n"
      ],
      "metadata": {
        "colab": {
          "base_uri": "https://localhost:8080/"
        },
        "id": "-P4X592MXn6b",
        "outputId": "2ea3648e-6cdc-44e3-f2d6-f5f9b974dccd"
      },
      "execution_count": 155,
      "outputs": [
        {
          "output_type": "stream",
          "name": "stdout",
          "text": [
            "드디어\n",
            "    내일이면 시험이다\n",
            "\n"
          ]
        }
      ]
    },
    {
      "cell_type": "code",
      "source": [
        ""
      ],
      "metadata": {
        "id": "ftEOTlnsYmpy"
      },
      "execution_count": null,
      "outputs": []
    }
  ]
}